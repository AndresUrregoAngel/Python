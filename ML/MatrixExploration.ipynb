{
  "nbformat": 4,
  "nbformat_minor": 0,
  "metadata": {
    "colab": {
      "name": "MatrixExploration.ipynb",
      "version": "0.3.2",
      "provenance": [],
      "collapsed_sections": [],
      "include_colab_link": true
    },
    "kernelspec": {
      "name": "python3",
      "display_name": "Python 3"
    }
  },
  "cells": [
    {
      "cell_type": "markdown",
      "metadata": {
        "id": "view-in-github",
        "colab_type": "text"
      },
      "source": [
        "<a href=\"https://colab.research.google.com/github/AndresUrregoAngel/Python/blob/master/ML/MatrixExploration.ipynb\" target=\"_parent\"><img src=\"https://colab.research.google.com/assets/colab-badge.svg\" alt=\"Open In Colab\"/></a>"
      ]
    },
    {
      "metadata": {
        "id": "6qO_bLmSNkLO",
        "colab_type": "code",
        "colab": {
          "base_uri": "https://localhost:8080/",
          "height": 102
        },
        "outputId": "4a40329b-034e-47b3-8aae-651be7ab070c"
      },
      "cell_type": "code",
      "source": [
        "import numpy as np\n",
        "from scipy import sparse\n",
        "\n",
        "matrix = np.array([\n",
        "    [2 , 0],\n",
        "    [0 , 1],\n",
        "    [3 , 0],\n",
        "    [4 , 3],\n",
        "    [0 , 5]\n",
        "    \n",
        "])\n",
        "\n",
        "print(matrix)"
      ],
      "execution_count": 9,
      "outputs": [
        {
          "output_type": "stream",
          "text": [
            "[[2 0]\n",
            " [0 1]\n",
            " [3 0]\n",
            " [4 3]\n",
            " [0 5]]\n"
          ],
          "name": "stdout"
        }
      ]
    },
    {
      "metadata": {
        "id": "8XX5tDe7N_c3",
        "colab_type": "code",
        "colab": {
          "base_uri": "https://localhost:8080/",
          "height": 119
        },
        "outputId": "0c855a2c-d9f6-4453-855a-f05713022776"
      },
      "cell_type": "code",
      "source": [
        "matrix_sparse = sparse.csr_matrix(matrix)\n",
        "print(matrix_sparse)\n",
        "\n",
        "# Explained result \n",
        "# ( which row the element starts , column from where the value come )   the values\n",
        "#  (1, 1)   \t1\n",
        "#  (2, 0)\t    3\n",
        "#  (3, 0)   \t4\n",
        "#  (3, 1)\t    3\n",
        "#  (4, 1)\t    5"
      ],
      "execution_count": 10,
      "outputs": [
        {
          "output_type": "stream",
          "text": [
            "  (0, 0)\t2\n",
            "  (1, 1)\t1\n",
            "  (2, 0)\t3\n",
            "  (3, 0)\t4\n",
            "  (3, 1)\t3\n",
            "  (4, 1)\t5\n"
          ],
          "name": "stdout"
        }
      ]
    },
    {
      "metadata": {
        "id": "-xhs_mPjUUCq",
        "colab_type": "code",
        "colab": {
          "base_uri": "https://localhost:8080/",
          "height": 136
        },
        "outputId": "e1836d6b-8fd2-4919-ef4a-ce2b5560ac94"
      },
      "cell_type": "code",
      "source": [
        "# Picking elements from the array \n",
        "\n",
        "matrix = np.array([\n",
        "    [4,5,6,7],\n",
        "    [3,2,1,0],\n",
        "    [4,0,6,7],\n",
        "    [7,3,1,8]\n",
        "])\n",
        "\n",
        "# matrix[rows[location],columns[location] ]\n",
        "print(matrix[3:4,-1:])\n",
        "\n",
        "print(matrix.shape,' the shape') # the shape of the matrix 4x4\n",
        "print(matrix.size ,'the number of elements within a matrix 16') # the number of elements within a matrix 16\n",
        "print(matrix.ndim, 'number of dimension on the matrix 2') # number of dimension on the matrix 2\n",
        "\n",
        "matrix_sparse = sparse.csr_matrix(matrix)\n",
        "#print(matrix_sparse)\n",
        "\n",
        "\n",
        "third_dim_matrix = np.zeros((1,1,3))\n",
        "#3D array\n",
        "new_m = np.array([   \n",
        "    [\n",
        "        [2,3],\n",
        "        [1,1]\n",
        "    ]\n",
        "])\n",
        "\n",
        "print(new_m[-1:,:1,-1:])\n",
        "print(new_m,new_m.ndim)"
      ],
      "execution_count": 50,
      "outputs": [
        {
          "output_type": "stream",
          "text": [
            "[[8]]\n",
            "(4, 4)  the shape\n",
            "16 the number of elements within a matrix 16\n",
            "2 number of dimension on the matrix 2\n",
            "[[[3]]]\n",
            "[[[2 3]\n",
            "  [1 1]]] 3\n"
          ],
          "name": "stdout"
        }
      ]
    },
    {
      "metadata": {
        "id": "ReNc9qfreP_a",
        "colab_type": "text"
      },
      "cell_type": "markdown",
      "source": [
        "Vectorized functions are able to apply an specific function across every element of a matrix"
      ]
    },
    {
      "metadata": {
        "id": "GVYYpNM2ec9U",
        "colab_type": "code",
        "colab": {
          "base_uri": "https://localhost:8080/",
          "height": 51
        },
        "outputId": "f74cc927-65a9-44c6-f3ef-b6a18f648d06"
      },
      "cell_type": "code",
      "source": [
        "matrix = np.array([\n",
        "    [3,4,2],\n",
        "    [5,6,2]\n",
        "])\n",
        "\n",
        "#define my function\n",
        "power_two = lambda i : pow(i,2)\n",
        "\n",
        "# vectorize the function\n",
        "\n",
        "vectorize_fnct = np.vectorize(power_two)\n",
        "\n",
        "#Apply the function to the matrix\n",
        "new_matrix = vectorize_fnct(matrix)\n",
        "\n",
        "print(new_matrix)\n"
      ],
      "execution_count": 51,
      "outputs": [
        {
          "output_type": "stream",
          "text": [
            "[[ 9 16  4]\n",
            " [25 36  4]]\n"
          ],
          "name": "stdout"
        }
      ]
    }
  ]
}